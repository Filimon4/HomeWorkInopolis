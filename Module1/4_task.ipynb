{
 "cells": [
  {
   "cell_type": "code",
   "execution_count": 75,
   "id": "cd2e2a5a-0daf-43ea-bbbe-f1ffbc99f3fa",
   "metadata": {},
   "outputs": [],
   "source": [
    "def match(command):\n",
    "    if command == \"save\":\n",
    "        print(\"сохранить\")\n",
    "    elif command == \"load\":\n",
    "        print(\"загрузить\")\n",
    "    else:\n",
    "        print(\"неизвестная операция\")"
   ]
  },
  {
   "cell_type": "code",
   "execution_count": null,
   "id": "c9a58a68-6af2-4373-821f-6e2bff23b91f",
   "metadata": {},
   "outputs": [],
   "source": [
    "m"
   ]
  }
 ],
 "metadata": {
  "kernelspec": {
   "display_name": "anaconda-panel-2023.05-py310",
   "language": "python",
   "name": "conda-env-anaconda-panel-2023.05-py310-py"
  },
  "language_info": {
   "codemirror_mode": {
    "name": "ipython",
    "version": 3
   },
   "file_extension": ".py",
   "mimetype": "text/x-python",
   "name": "python",
   "nbconvert_exporter": "python",
   "pygments_lexer": "ipython3",
   "version": "3.11.5"
  }
 },
 "nbformat": 4,
 "nbformat_minor": 5
}
