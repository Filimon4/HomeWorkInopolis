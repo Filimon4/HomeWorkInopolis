{
 "cells": [
  {
   "cell_type": "code",
   "execution_count": 27,
   "id": "70ffe6f9-31ce-470f-bab3-3cb28f4b5aec",
   "metadata": {},
   "outputs": [
    {
     "name": "stdin",
     "output_type": "stream",
     "text": [
      " 1.34\n"
     ]
    }
   ],
   "source": [
    "money = round(float(input()))"
   ]
  },
  {
   "cell_type": "code",
   "execution_count": null,
   "id": "e38addce-0fda-4c0f-883d-a07f7c85500d",
   "metadata": {},
   "outputs": [],
   "source": [
    "if money % 100 == 1:\n",
    "    print(f\"{money} рубль\")\n",
    "elif money & 100 <= 4 and money % 100 >= 2:\n",
    "    print(f\"{money} рубля\")\n",
    "elif money % 100 > 4:\n",
    "    print(f\"{money} рублей\")"
   ]
  }
 ],
 "metadata": {
  "kernelspec": {
   "display_name": "anaconda-panel-2023.05-py310",
   "language": "python",
   "name": "conda-env-anaconda-panel-2023.05-py310-py"
  },
  "language_info": {
   "codemirror_mode": {
    "name": "ipython",
    "version": 3
   },
   "file_extension": ".py",
   "mimetype": "text/x-python",
   "name": "python",
   "nbconvert_exporter": "python",
   "pygments_lexer": "ipython3",
   "version": "3.11.5"
  }
 },
 "nbformat": 4,
 "nbformat_minor": 5
}
