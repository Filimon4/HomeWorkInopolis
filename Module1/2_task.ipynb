{
 "cells": [
  {
   "cell_type": "code",
   "execution_count": 61,
   "id": "45f9cfc4-52ee-4496-92f3-8c7989a12084",
   "metadata": {},
   "outputs": [
    {
     "name": "stdin",
     "output_type": "stream",
     "text": [
      " 15\n"
     ]
    }
   ],
   "source": [
    "n = int(input())"
   ]
  },
  {
   "cell_type": "code",
   "execution_count": 69,
   "id": "2d90cc4f-b065-4d56-a519-90bae417abd3",
   "metadata": {},
   "outputs": [
    {
     "name": "stdout",
     "output_type": "stream",
     "text": [
      "610\n"
     ]
    }
   ],
   "source": [
    "fib = [1,1]\n",
    "step = 3\n",
    "while step <= n:\n",
    "    temp = fib[0] + fib[1]\n",
    "    fib[0] = fib[1]\n",
    "    fib[1] = temp\n",
    "    step += 1\n",
    "print(fib[1])"
   ]
  },
  {
   "cell_type": "code",
   "execution_count": null,
   "id": "b95a0110-46d6-463d-be56-069fe89ff0e0",
   "metadata": {},
   "outputs": [],
   "source": []
  }
 ],
 "metadata": {
  "kernelspec": {
   "display_name": "anaconda-panel-2023.05-py310",
   "language": "python",
   "name": "conda-env-anaconda-panel-2023.05-py310-py"
  },
  "language_info": {
   "codemirror_mode": {
    "name": "ipython",
    "version": 3
   },
   "file_extension": ".py",
   "mimetype": "text/x-python",
   "name": "python",
   "nbconvert_exporter": "python",
   "pygments_lexer": "ipython3",
   "version": "3.11.5"
  }
 },
 "nbformat": 4,
 "nbformat_minor": 5
}
