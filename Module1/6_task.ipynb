{
 "cells": [
  {
   "cell_type": "code",
   "execution_count": 87,
   "id": "6cc0c917-c4fd-48b9-a853-833ea1eecfdd",
   "metadata": {},
   "outputs": [],
   "source": [
    "import numpy as np"
   ]
  },
  {
   "cell_type": "code",
   "execution_count": 103,
   "id": "b57bd613-6e83-4c89-837a-247f6d673379",
   "metadata": {},
   "outputs": [],
   "source": [
    "def num_solution(DArray):\n",
    "    x = DArray.flatten()\n",
    "    print(x)"
   ]
  },
  {
   "cell_type": "code",
   "execution_count": 119,
   "id": "95d4c124-5157-4950-bc7a-d3e29b90ad51",
   "metadata": {},
   "outputs": [],
   "source": [
    "def basic_solution(Darray):\n",
    "    x = [y for arr in Darray for y in x]\n",
    "    print(x)"
   ]
  },
  {
   "cell_type": "code",
   "execution_count": null,
   "id": "929e9fc6-804b-4fbe-b292-a75cc93d592d",
   "metadata": {},
   "outputs": [],
   "source": [
    "array1 = np.array([[1,2,3],[4,5,6],[7,8,9]])\n",
    "array2 = [[1,2,3],[4,5,6],[7,8,9]]\n",
    "num_solution(array1)\n",
    "basic_solution(array2)"
   ]
  },
  {
   "cell_type": "code",
   "execution_count": null,
   "id": "9de59f0a-b062-4f48-9e16-5fa84320ce82",
   "metadata": {},
   "outputs": [],
   "source": []
  }
 ],
 "metadata": {
  "kernelspec": {
   "display_name": "anaconda-panel-2023.05-py310",
   "language": "python",
   "name": "conda-env-anaconda-panel-2023.05-py310-py"
  },
  "language_info": {
   "codemirror_mode": {
    "name": "ipython",
    "version": 3
   },
   "file_extension": ".py",
   "mimetype": "text/x-python",
   "name": "python",
   "nbconvert_exporter": "python",
   "pygments_lexer": "ipython3",
   "version": "3.11.5"
  }
 },
 "nbformat": 4,
 "nbformat_minor": 5
}
