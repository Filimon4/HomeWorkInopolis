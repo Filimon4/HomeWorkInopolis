{
 "cells": [
  {
   "cell_type": "code",
   "execution_count": 73,
   "id": "b95a0110-46d6-463d-be56-069fe89ff0e0",
   "metadata": {},
   "outputs": [
    {
     "data": {
      "text/plain": [
       "210"
      ]
     },
     "execution_count": 73,
     "metadata": {},
     "output_type": "execute_result"
    }
   ],
   "source": [
    "y = 10\n",
    "\n",
    "def sum(x):\n",
    "    c = 100\n",
    "    return x + c + y\n",
    "\n",
    "sum(100)"
   ]
  },
  {
   "cell_type": "code",
   "execution_count": null,
   "id": "cd2e2a5a-0daf-43ea-bbbe-f1ffbc99f3fa",
   "metadata": {},
   "outputs": [],
   "source": []
  }
 ],
 "metadata": {
  "kernelspec": {
   "display_name": "anaconda-panel-2023.05-py310",
   "language": "python",
   "name": "conda-env-anaconda-panel-2023.05-py310-py"
  },
  "language_info": {
   "codemirror_mode": {
    "name": "ipython",
    "version": 3
   },
   "file_extension": ".py",
   "mimetype": "text/x-python",
   "name": "python",
   "nbconvert_exporter": "python",
   "pygments_lexer": "ipython3",
   "version": "3.11.5"
  }
 },
 "nbformat": 4,
 "nbformat_minor": 5
}
